{
 "cells": [
  {
   "cell_type": "code",
   "execution_count": 1,
   "metadata": {},
   "outputs": [],
   "source": [
    "from PIL import Image, ImageEnhance, ImageFilter"
   ]
  },
  {
   "cell_type": "code",
   "execution_count": null,
   "metadata": {},
   "outputs": [],
   "source": [
    "img1 = Image.open(\"img/DK1.jpg\")\n",
    "img1"
   ]
  },
  {
   "cell_type": "code",
   "execution_count": null,
   "metadata": {},
   "outputs": [],
   "source": [
    "img2 = Image.open(\"img/DK2.jpg\")\n",
    "img2"
   ]
  },
  {
   "cell_type": "code",
   "execution_count": null,
   "metadata": {},
   "outputs": [],
   "source": [
    "gray_img = img1.convert(\"L\")\n",
    "gray_img"
   ]
  },
  {
   "cell_type": "code",
   "execution_count": null,
   "metadata": {},
   "outputs": [],
   "source": [
    "rotated_img = img1.rotate(180)\n",
    "rotated_img"
   ]
  },
  {
   "cell_type": "code",
   "execution_count": null,
   "metadata": {},
   "outputs": [],
   "source": [
    "transpose_img = img1.transpose(Image.FLIP_LEFT_RIGHT)\n",
    "transpose_img"
   ]
  },
  {
   "cell_type": "code",
   "execution_count": null,
   "metadata": {},
   "outputs": [],
   "source": [
    "resize_img_small = img1.resize((300, 200))\n",
    "resize_img_small"
   ]
  },
  {
   "cell_type": "code",
   "execution_count": null,
   "metadata": {},
   "outputs": [],
   "source": [
    "resize_img_big = img1.resize((1500, 1000))\n",
    "resize_img_big"
   ]
  },
  {
   "cell_type": "code",
   "execution_count": null,
   "metadata": {},
   "outputs": [],
   "source": [
    "dim = (200, 200, 250, 300)\n",
    "crop_img = img1.crop(dim)\n",
    "crop_img"
   ]
  },
  {
   "cell_type": "code",
   "execution_count": null,
   "metadata": {},
   "outputs": [],
   "source": [
    "enhancer = ImageEnhance.Brightness(img1)\n",
    "bright_img = enhancer.enhance(0.8)\n",
    "bright_img"
   ]
  },
  {
   "cell_type": "code",
   "execution_count": null,
   "metadata": {},
   "outputs": [],
   "source": [
    "enhancer = ImageEnhance.Contrast(img1)\n",
    "contrast_img = enhancer.enhance(1.5)\n",
    "contrast_img"
   ]
  },
  {
   "cell_type": "code",
   "execution_count": null,
   "metadata": {},
   "outputs": [],
   "source": [
    "enhancer = ImageEnhance.Color(img1)\n",
    "saturation_img = enhancer.enhance(1)\n",
    "saturation_img"
   ]
  },
  {
   "cell_type": "code",
   "execution_count": null,
   "metadata": {},
   "outputs": [],
   "source": [
    "enhancer = ImageEnhance.Sharpness(img1)\n",
    "sharpness_img = enhancer.enhance(2)\n",
    "sharpness_img"
   ]
  },
  {
   "cell_type": "code",
   "execution_count": null,
   "metadata": {},
   "outputs": [],
   "source": [
    "filtro_smooth = img1.filter(ImageFilter.SMOOTH)\n",
    "filtro_smooth"
   ]
  },
  {
   "cell_type": "code",
   "execution_count": null,
   "metadata": {},
   "outputs": [],
   "source": [
    "filtro_detail = img1.filter(ImageFilter.DETAIL)\n",
    "filtro_detail"
   ]
  },
  {
   "cell_type": "code",
   "execution_count": null,
   "metadata": {},
   "outputs": [],
   "source": [
    "filtro_blur = img1.filter(ImageFilter.BLUR)\n",
    "filtro_blur"
   ]
  },
  {
   "cell_type": "code",
   "execution_count": null,
   "metadata": {},
   "outputs": [],
   "source": [
    "filtro_edge = img1.filter(ImageFilter.FIND_EDGES)\n",
    "filtro_edge"
   ]
  },
  {
   "cell_type": "code",
   "execution_count": null,
   "metadata": {},
   "outputs": [],
   "source": [
    "filtro_gaussian_blur = img1.filter(ImageFilter.GaussianBlur(radius=5))\n",
    "filtro_gaussian_blur"
   ]
  },
  {
   "cell_type": "code",
   "execution_count": null,
   "metadata": {},
   "outputs": [],
   "source": [
    "paint_img = img1.filter(ImageFilter.ModeFilter(size=5))\n",
    "paint_img"
   ]
  },
  {
   "cell_type": "code",
   "execution_count": null,
   "metadata": {},
   "outputs": [],
   "source": [
    "pencil_img = img1.convert(\"L\").filter(ImageFilter.CONTOUR)\n",
    "pencil_img"
   ]
  },
  {
   "cell_type": "code",
   "execution_count": null,
   "metadata": {},
   "outputs": [],
   "source": [
    "denoised_img = img1.filter(ImageFilter.MedianFilter(size=3))\n",
    "denoised_img"
   ]
  },
  {
   "cell_type": "code",
   "execution_count": 33,
   "metadata": {},
   "outputs": [],
   "source": [
    "from PIL import ImageDraw, ImageFont"
   ]
  },
  {
   "cell_type": "code",
   "execution_count": null,
   "metadata": {},
   "outputs": [],
   "source": [
    "text_img = img1.copy()\n",
    "draw = ImageDraw.Draw(text_img)\n",
    "font = ImageFont.load_default()\n",
    "draw.text((10, 10), \"Texto de Exemplo\", fill=\"white\", font=font)\n",
    "text_img"
   ]
  },
  {
   "cell_type": "code",
   "execution_count": null,
   "metadata": {},
   "outputs": [],
   "source": [
    "rgba_img = img1.convert(\"RGBA\")\n",
    "data = rgba_img.getdata()\n",
    "# Criando uma nova imagem com transparência\n",
    "new_data = []\n",
    "for item in data:\n",
    "    # Mudando a opacidade\n",
    "    new_data.append((item[0], item[1], item[2], 128)) # 50% de transparência\n",
    "rgba_img.putdata(new_data)\n",
    "rgba_img"
   ]
  },
  {
   "cell_type": "code",
   "execution_count": 39,
   "metadata": {},
   "outputs": [],
   "source": [
    "import numpy as np"
   ]
  },
  {
   "cell_type": "code",
   "execution_count": null,
   "metadata": {},
   "outputs": [],
   "source": [
    "def apply_sepia(img):\n",
    "    sepia_img = img.convert('RGB')\n",
    "    width, height = sepia_img.size\n",
    "    pixels = sepia_img.load()\n",
    "    \n",
    "    for py in range(height):\n",
    "        for px in range(width):\n",
    "            r, g, b = pixels[px, py]\n",
    "            tr = int(0.393 * r + 0.769 *g +0.189 *b)\n",
    "            tg = int(0.349 * r + 0.686 * g + 0.168 * b)\n",
    "            tb = int(0.272 * r + 0.534 * g + 0.131 * b)\n",
    "            \n",
    "            tr = min(255, tr)\n",
    "            tg = min(255, tg)\n",
    "            tb = min(255, tb)\n",
    "            \n",
    "            pixels[px, py] = (tr, tg, tb)\n",
    "    return sepia_img\n",
    "sepia_img = apply_sepia(img1)\n",
    "sepia_img"
   ]
  },
  {
   "cell_type": "code",
   "execution_count": null,
   "metadata": {},
   "outputs": [],
   "source": [
    "mask = Image.new('L', img1.size, 0)\n",
    "draw = ImageDraw.Draw(mask)\n",
    "draw.ellipse((100, 100, 300, 300), fill=255)\n",
    "masked_img = Image.composite(img1, Image.new('RGB', img1.size, (0, 0, 0)), mask)\n",
    "masked_img"
   ]
  },
  {
   "cell_type": "code",
   "execution_count": 43,
   "metadata": {},
   "outputs": [],
   "source": [
    "def adjust_exposure(img, factor):\n",
    "    enhancer = ImageEnhance.Brightness(img)\n",
    "    return enhancer.enhance(factor)\n",
    "\n",
    "from PIL import ImageOps\n",
    "\n",
    "def adjust_gamma(img, gamma):\n",
    "    return ImageOps.autocontrast(img, cutoff=0)\n",
    "\n",
    "exposure_img = adjust_exposure(img1, 1.5)\n",
    "exposure_img"
   ]
  },
  {
   "cell_type": "code",
   "execution_count": null,
   "metadata": {},
   "outputs": [],
   "source": [
    "gamma_img = adjust_gamma(img1, 2.0)\n",
    "gamma_img"
   ]
  },
  {
   "cell_type": "code",
   "execution_count": null,
   "metadata": {},
   "outputs": [],
   "source": [
    "# Imagem 3d\n",
    "from PIL import ImageChops\n",
    "\n",
    "left_img = img1.copy()\n",
    "right_img = img1.copy()\n",
    "\n",
    "red_channel = ImageChops.offset(left_img.getchannel('R'), 5, 0)\n",
    "green_channel = ImageChops.offset(right_img.getchannel('G'), -5, 0)\n",
    "\n",
    "anaglyph_img = Image.merge('RGB', (red_channel, green_channel, left_img.getchannel('B')))\n",
    "anaglyph_img\n"
   ]
  },
  {
   "cell_type": "code",
   "execution_count": null,
   "metadata": {},
   "outputs": [],
   "source": [
    "# Efeito de Reflexão\n",
    "def add_reflection(img):\n",
    "    reflection = img.transpose(Image.FLIP_TOP_BOTTOM)\n",
    "    reflection = reflection.crop((0, 0, img.width, img.height // 2))\n",
    "    reflection = ImageEnhance.Brightness(reflection).enhance(0.5)\n",
    "    combined_img = Image.new('RGB', (img.width, img.height + reflection.height))\n",
    "    combined_img.paste(img, (0, 0))\n",
    "    combined_img.paste(reflection, (0, img.height))\n",
    "    \n",
    "    return combined_img\n",
    "reflection_img = add_reflection(img1)\n",
    "reflection_img"
   ]
  },
  {
   "cell_type": "code",
   "execution_count": 48,
   "metadata": {},
   "outputs": [],
   "source": [
    "import glob"
   ]
  },
  {
   "cell_type": "code",
   "execution_count": 51,
   "metadata": {},
   "outputs": [],
   "source": [
    "for arquivo in glob.glob(\"img/*.jpg\"):\n",
    "    im = Image.open(arquivo)\n",
    "    im.show()"
   ]
  }
 ],
 "metadata": {
  "kernelspec": {
   "display_name": "Python 3",
   "language": "python",
   "name": "python3"
  },
  "language_info": {
   "codemirror_mode": {
    "name": "ipython",
    "version": 3
   },
   "file_extension": ".py",
   "mimetype": "text/x-python",
   "name": "python",
   "nbconvert_exporter": "python",
   "pygments_lexer": "ipython3",
   "version": "3.11.5"
  }
 },
 "nbformat": 4,
 "nbformat_minor": 2
}
